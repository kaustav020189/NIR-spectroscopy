{
 "cells": [
  {
   "cell_type": "code",
   "execution_count": null,
   "metadata": {
    "collapsed": true
   },
   "outputs": [],
   "source": [
    "#Standardization\n",
    "scaler = MinMaxScaler()\n",
    "X_data_rescaled = scaler.fit_transform(X)\n",
    "\n",
    "from sklearn.decomposition import PCA\n",
    "\n",
    "pca = PCA()\n",
    "X_data_new = pca.fit_transform(X_data_rescaled)\n",
    "#pca.get_covariance()\n",
    "exp_var_cumul = np.cumsum(pca.explained_variance_ratio_)\n",
    "\n",
    "px.area(\n",
    "    x=range(1, exp_var_cumul.shape[0] + 1),\n",
    "    y=exp_var_cumul,\n",
    "    labels={\"x\": \"# Components\", \"y\": \"Explained Variance\"}\n",
    ")\n",
    "pca = PCA(10)  # we perform PCA with the first 10 components (as it describes 95.304 % of the variance)\n",
    "X_data_pca_transformed = pca.fit_transform(X_data_rescaled)\n",
    "X_data_pca_transformed.shape\n",
    "\n",
    "pls2 = PLSRegression(n_components=2)\n",
    "pls2.fit(X_data_pca_transformed, y)\n",
    "y_pred = pls2.predict(X_data_pca_transformed)\n",
    "# Plot\n",
    "# plt.figure(figsize=(9,6))\n",
    "# plt.plot(wl[interval], X2_smooth_1[interval], 'r', label = 'Smoothing: w/p = 2.5')\n",
    "# plt.plot(wl[interval], X2_smooth_2[interval], 'g', label = 'Smoothing: w/p = 5.5')\n",
    "# plt.plot(wl[interval], X2_smooth_3[interval], 'm', label = 'Smoothing: w/p = 3.5')\n",
    "# plt.xlabel(\"Wavelength (nm)\")\n",
    "# plt.ylabel(\"Second Derivative Reflectance\")\n",
    "# plt.legend()\n",
    "# plt.show()"
   ]
  }
 ],
 "metadata": {
  "kernelspec": {
   "display_name": "Python 3",
   "language": "python",
   "name": "python3"
  },
  "language_info": {
   "codemirror_mode": {
    "name": "ipython",
    "version": 2
   },
   "file_extension": ".py",
   "mimetype": "text/x-python",
   "name": "python",
   "nbconvert_exporter": "python",
   "pygments_lexer": "ipython2",
   "version": "2.7.6"
  }
 },
 "nbformat": 4,
 "nbformat_minor": 0
}
